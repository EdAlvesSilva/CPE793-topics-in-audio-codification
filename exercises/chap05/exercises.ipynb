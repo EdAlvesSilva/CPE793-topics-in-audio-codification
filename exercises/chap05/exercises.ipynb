{
 "cells": [
  {
   "cell_type": "code",
   "execution_count": 97,
   "outputs": [],
   "source": [
    "import numpy as np\n",
    "from matplotlib import pyplot as plt"
   ],
   "metadata": {
    "collapsed": false,
    "pycharm": {
     "name": "#%%\n"
    }
   }
  },
  {
   "cell_type": "markdown",
   "source": [
    "# Exercises:\n",
    "\n",
    "### a. MDCT:\n",
    "In this exercise you will implement a time-to-frequency mapping using the MDCT. You will verify that the mapping leads to perfect reconstruction and that the fast implementation is significantly faster than straightforward implementation. Your fast MDCTIIMDCT implementation will be useful for later exercises.\n",
    "1. Program functions to carry out the MDCT and IMDCT using the transform definitions."
   ],
   "metadata": {
    "collapsed": false
   }
  },
  {
   "cell_type": "code",
   "execution_count": 98,
   "outputs": [],
   "source": [
    "def mdct_naive(x, window = None):\n",
    "    N = len(x)\n",
    "    if window is None: window = np.ones(N)\n",
    "    if N%2 != 0: raise ValueError(\"N deve ser inteiro par\")\n",
    "    n_0 = (N/2 + 1)/2\n",
    "    X = np.zeros(N//2)\n",
    "    for k in range(N//2):\n",
    "        for n in range(N):\n",
    "            arg =  2 * np.pi * (n+n_0) * (k+0.5) / N\n",
    "            X[k] += window[n] * x[n] * np.cos(arg)\n",
    "            # print(f'k={k}, arg={arg}')\n",
    "    if len(X) != N//2: raise ValueError(f\"deve ter tamanho N/2, len = {len(X)}\")\n",
    "    return X\n",
    "\n",
    "# pela definição formal\n",
    "def mdct_vanilla(x, window = None):\n",
    "    N = len(x)\n",
    "    if window is None: window = np.ones(N)\n",
    "    if N%2 != 0: raise ValueError(\"N deve ser inteiro par\")\n",
    "    K = np.arange(N/2)\n",
    "    n_0 = (N/2 + 1)/2\n",
    "    n = np.arange(N)\n",
    "    X = [np.sum(x * window * np.cos(2 * np.pi * (n + n_0)*(k+1/2) / N )) for k in K]\n",
    "    if len(X) != len(K): raise ValueError(f\"deve ter tamanho N/2, len = {len(X)}\")\n",
    "    return X\n",
    "\n",
    "def imdct_naive(X, window = None):\n",
    "    K = len(X)\n",
    "    N = 2*K\n",
    "    if window is None: window = np.ones(N)\n",
    "    n_0 = (N/2 + 1)/2\n",
    "    x = np.zeros(N)\n",
    "    for n in range(N):\n",
    "        for k in range(K):\n",
    "            arg = 2 * np.pi * (n+n_0)*(k+0.5) / N\n",
    "            x[n] += window[n] * (4/N) * X[k] * np.cos(arg)\n",
    "    if len(x) != N: raise ValueError(f\"deve ter tamanho N, len = {len(x)}\")\n",
    "    return x\n",
    "\n",
    "def imdct_vanilla(X, window = None):\n",
    "    K = len(X)\n",
    "    N = 2*K\n",
    "    if window is None: window = np.ones(N)\n",
    "    k = np.arange(K)\n",
    "    n_0 = (N/2 + 1)/2\n",
    "    x = [window[n] * (4/N) * np.sum(X * np.cos(2 * np.pi * (n + n_0)*(k+1/2) / N )) for n in np.arange(N)]\n",
    "    if len(x) != N: raise ValueError(f\"deve ter tamanho N, len = {len(x)}\")\n",
    "    return x"
   ],
   "metadata": {
    "collapsed": false,
    "pycharm": {
     "name": "#%%\n"
    }
   }
  },
  {
   "cell_type": "code",
   "execution_count": 104,
   "outputs": [
    {
     "data": {
      "text/plain": "[<matplotlib.lines.Line2D at 0x11c2ca4c0>]"
     },
     "execution_count": 104,
     "metadata": {},
     "output_type": "execute_result"
    },
    {
     "data": {
      "text/plain": "<Figure size 432x288 with 3 Axes>",
      "image/png": "[encoded data removed]"
     },
     "metadata": {
      "needs_background": "light"
     },
     "output_type": "display_data"
    }
   ],
   "source": [
    "X = [1,1,1,1]\n",
    "# vanilla = imdct_vanilla(X)\n",
    "# naive = imdct_naive(X)\n",
    "# print(vanilla)\n",
    "# print(naive)\n",
    "\n",
    "x = np.zeros(32)\n",
    "x[0] = 1\n",
    "fig, ax = plt.subplots(nrows = 3, ncols = 1)\n",
    "ax[0].plot(x)\n",
    "X = mdct_naive(x, window=np.hanning(32))\n",
    "ax[1].plot(X)\n",
    "ax[2].plot(imdct_naive(X, window=np.hanning(32)))\n"
   ],
   "metadata": {
    "collapsed": false,
    "pycharm": {
     "name": "#%%\n"
    }
   }
  },
  {
   "cell_type": "code",
   "execution_count": 90,
   "outputs": [],
   "source": [
    "\n",
    "def pre_twiddle(N):\n",
    "    return np.exp(-2j * np.pi * np.arange(N) / N)\n",
    "\n",
    "def post_twiddle(N):\n",
    "    if N%2 != 0: raise ValueError(\"N deve ser inteiro par\")\n",
    "    n_0 = 1\n",
    "    k = np.arange(N/2 - 1)\n",
    "    return np.exp(-2j * np.pi * (k + 0.5) / N)\n",
    "\n",
    "\n",
    "def mdct_via_fft(x):\n",
    "   return np.re(post_twiddle(len(x)) * np.fft.fft(x * pre_twiddle(len(x))))\n",
    "\n",
    "def imdct():\n",
    "    return 1"
   ],
   "metadata": {
    "collapsed": false,
    "pycharm": {
     "name": "#%%\n"
    }
   }
  }
 ],
 "metadata": {
  "kernelspec": {
   "display_name": "Python 3",
   "language": "python",
   "name": "python3"
  },
  "language_info": {
   "codemirror_mode": {
    "name": "ipython",
    "version": 2
   },
   "file_extension": ".py",
   "mimetype": "text/x-python",
   "name": "python",
   "nbconvert_exporter": "python",
   "pygments_lexer": "ipython2",
   "version": "2.7.6"
  }
 },
 "nbformat": 4,
 "nbformat_minor": 0
}