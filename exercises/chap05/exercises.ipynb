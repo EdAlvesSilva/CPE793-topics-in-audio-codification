{
 "cells": [
  {
   "cell_type": "code",
   "execution_count": 7,
   "outputs": [],
   "source": [
    "import numpy as np\n",
    "from matplotlib import pyplot as plt\n",
    "import mdct"
   ],
   "metadata": {
    "collapsed": false,
    "pycharm": {
     "name": "#%%\n"
    }
   }
  },
  {
   "cell_type": "markdown",
   "source": [
    "# Exercises:\n",
    "\n",
    "### a. MDCT:\n",
    "In this exercise you will implement a time-to-frequency mapping using the MDCT. You will verify that the mapping leads to perfect reconstruction and that the fast implementation is significantly faster than straightforward implementation. Your fast MDCTIIMDCT implementation will be useful for later exercises.\n",
    "1. Program functions to carry out the MDCT and IMDCT using the transform definitions."
   ],
   "metadata": {
    "collapsed": false
   }
  },
  {
   "cell_type": "code",
   "execution_count": 8,
   "outputs": [],
   "source": [
    "def mdct_naive(x, window = None):\n",
    "    N = len(x)\n",
    "    if window is None: window = np.ones(N)\n",
    "    if N%2 != 0: raise ValueError(\"N deve ser inteiro par\")\n",
    "    n_0 = (N/2 + 1)/2\n",
    "    X = np.zeros(N//2)\n",
    "    for k in range(N//2):\n",
    "        for n in range(N):\n",
    "            arg =  2 * np.pi * (n+n_0) * (k+0.5) / N\n",
    "            X[k] += window[n] * x[n] * np.cos(arg)\n",
    "            # print(f'k={k}, arg={arg}')\n",
    "    if len(X) != N//2: raise ValueError(f\"deve ter tamanho N/2, len = {len(X)}\")\n",
    "    return X\n",
    "\n",
    "class MDCT():\n",
    "    def _init_(self, N: int, window: np.ndarray):\n",
    "        K = N//2\n",
    "        n_0 = ((N/2) + 1)/2\n",
    "\n",
    "        A = np.zeros((K,N))\n",
    "        for k in range(K):\n",
    "            for n in range(N):\n",
    "                A[k,n] = np.cos((2*np.pi/N)(n + n_0)(k+1/2))\n",
    "\n",
    "        self.N = N\n",
    "        self.window = window\n",
    "        self.A_1 = A[:,:N//2]\n",
    "        self.A_2 = A[:,N//2:]\n",
    "        self.B_1 = (4/N)*self.A_1.T\n",
    "        self.B_2 = (4/N)*self.A_2.T\n",
    "\n",
    "        self.A = A\n",
    "        self.B = (4/N)*A.T\n",
    "\n",
    "        if window.shape[0] != N:\n",
    "            raise ValueError(f\"Window is not the same size as N! Window size: {window.shape[0]}\")\n",
    "\n",
    "    def _preprocess(self, x: np.ndarray):\n",
    "        L = len(x)\n",
    "        self.frames = L//(self.N//2) + 1\n",
    "        r = L%(self.N//2)\n",
    "        return np.pad(x, (self.N // 2, self.N // 2 - r))\n",
    "\n",
    "\n",
    "    def mdct(self, x: np.ndarray):\n",
    "        x_padded = self._preprocess(x)\n",
    "        # self.x_padded_len = len(x_padded)\n",
    "        # X => K x f\n",
    "\n",
    "        X = np.ndarray((self.A.shape[0], self.frames))\n",
    "        for frame in range(self.frames):\n",
    "            # A => K x N\n",
    "            # x_windowed => N x 1\n",
    "            # A * x_windowed => K x 1\n",
    "            X[:, frame] = self.A @ (x_padded[frame*(self.N//2):frame*(self.N//2)+self.N] * self.window)\n",
    "\n",
    "        return X\n",
    "\n",
    "    # flippar a janela\n",
    "    # remover o padding na volta\n",
    "    def imdct(self, X: np.ndarray):\n",
    "        x_padded = np.zeros(self.frames * self.N - self.N)\n",
    "        for frame in range(self.frames):\n",
    "            # A => K x N\n",
    "            # x_windowed => N x 1\n",
    "            # A * x_windowed => K x 1\n",
    "            # X => K linhas, N colunas\n",
    "            x_padded += self.B @ (X[:,frame] * self.window)\n",
    "        return X\n",
    "\n"
   ],
   "metadata": {
    "collapsed": false,
    "pycharm": {
     "name": "#%%\n"
    }
   }
  },
  {
   "cell_type": "code",
   "execution_count": 4,
   "outputs": [
    {
     "data": {
      "text/plain": "[<matplotlib.lines.Line2D at 0x7feffb83b670>,\n <matplotlib.lines.Line2D at 0x7feffb83b7c0>,\n <matplotlib.lines.Line2D at 0x7feffb83b910>]"
     },
     "execution_count": 4,
     "metadata": {},
     "output_type": "execute_result"
    },
    {
     "data": {
      "text/plain": "<Figure size 432x288 with 3 Axes>",
      "image/png": "[encoded data removed]"
     },
     "metadata": {
      "needs_background": "light"
     },
     "output_type": "display_data"
    }
   ],
   "source": [
    "X = [1,1,1,1]\n",
    "# vanilla = imdct_vanilla(X)\n",
    "# naive = imdct_naive(X)\n",
    "# print(vanilla)\n",
    "# print(naive)\n",
    "\n",
    "x = np.zeros()\n",
    "x[0] = 1\n",
    "fig, ax = plt.subplots(nrows = 3, ncols = 1)\n",
    "ax[0].plot(x)\n",
    "X = mdct_naive(x, window=np.hanning(32))\n",
    "ax[1].plot(X)\n",
    "ax[2].plot(mdct.mdct(x))\n"
   ],
   "metadata": {
    "collapsed": false,
    "pycharm": {
     "name": "#%%\n"
    }
   }
  },
  {
   "cell_type": "code",
   "execution_count": 5,
   "outputs": [],
   "source": [],
   "metadata": {
    "collapsed": false,
    "pycharm": {
     "name": "#%%\n"
    }
   }
  },
  {
   "cell_type": "code",
   "execution_count": null,
   "outputs": [],
   "source": [
    "def pre_twiddle(N):\n",
    "    return np.exp(-2j * np.pi * np.arange(N) / N)\n",
    "\n",
    "def post_twiddle(N):\n",
    "    if N%2 != 0: raise ValueError(\"N deve ser inteiro par\")\n",
    "    n_0 = 1\n",
    "    k = np.arange(N/2 - 1)\n",
    "    return np.exp(-2j * np.pi * (k + 0.5) / N)\n",
    "\n",
    "\n",
    "def mdct_via_fft(x):\n",
    "   return np.re(post_twiddle(len(x)) * np.fft.fft(x * pre_twiddle(len(x))))\n",
    "\n",
    "def imdct():\n",
    "    return 1"
   ],
   "metadata": {
    "collapsed": false,
    "pycharm": {
     "name": "#%%\n"
    }
   }
  }
 ],
 "metadata": {
  "kernelspec": {
   "display_name": "Python 3",
   "language": "python",
   "name": "python3"
  },
  "language_info": {
   "codemirror_mode": {
    "name": "ipython",
    "version": 2
   },
   "file_extension": ".py",
   "mimetype": "text/x-python",
   "name": "python",
   "nbconvert_exporter": "python",
   "pygments_lexer": "ipython2",
   "version": "2.7.6"
  }
 },
 "nbformat": 4,
 "nbformat_minor": 0
}