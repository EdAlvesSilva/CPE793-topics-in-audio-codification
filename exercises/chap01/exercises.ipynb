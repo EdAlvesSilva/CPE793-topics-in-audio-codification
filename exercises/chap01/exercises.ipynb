{
 "cells": [
  {
   "cell_type": "markdown",
   "metadata": {
    "collapsed": true,
    "pycharm": {
     "name": "#%% md\n"
    }
   },
   "source": [
    "# Exercises:\n",
    "## a) Data rates:\n",
    "Compute the data rates for the following audio signals:\n",
    "1. A mono signal (i.e. single channel signal) sampled at 8 kHz using 8 bits per sample\n",
    "2. A stereo signal sampled at 44.1 kHz using 16 bits per sample\n",
    "3. Five channel (L, C, R, LS, RS) audio sampled at 44.1 kHz using 16\n",
    "bits per sample\n",
    "4. Five channel (L, C, R, LS, RS) audio sampled at 96 kHz using 24 bits\n",
    "per sample\n",
    "___\n",
    "Solution:\n",
    "\n",
    "*The data rate or bitrate of a system, I, in bits per second, (or kb/s kilo, thousands, bits per second or Mb/s Mega,\n",
    " Millions, bits per second) per channel is given by the sampling frequency times the audio sample precision:*\n",
    "\n",
    "$ I = F_{s} * R, \\ I = [b/s  \\ \\text{per audio channel}]$"
   ]
  },
  {
   "cell_type": "code",
   "execution_count": 22,
   "outputs": [],
   "source": [
    "def compute_bitrate(channels: int, sr: int, r: int):\n",
    "    \"\"\"\n",
    "    :param channels: number of channels\n",
    "    :param sr: sample rate [1/Hz]\n",
    "    :param r: number of bits [bits/s]\n",
    "    :return: bitrate [bits/s per channel]\n",
    "    \"\"\"\n",
    "    return channels * sr * r"
   ],
   "metadata": {
    "collapsed": false,
    "pycharm": {
     "name": "#%%\n"
    }
   }
  },
  {
   "cell_type": "code",
   "execution_count": 23,
   "outputs": [
    {
     "name": "stdout",
     "output_type": "stream",
     "text": [
      "in K_b/s:\n",
      "1: 64.0\n",
      "2: 1411.2\n",
      "3: 3528.0\n",
      "4: 11520.0\n",
      "\n"
     ]
    }
   ],
   "source": [
    "print(\n",
    "    f'in K_b/s:\\n'\n",
    "    f'1: {compute_bitrate(1, 8000, 8) / 1000}\\n'\n",
    "    f'2: {compute_bitrate(2, 44100, 16) / 1000}\\n'\n",
    "    f'3: {compute_bitrate(5, 44100, 16) / 1000}\\n'\n",
    "    f'4: {compute_bitrate(5, 96000, 24) / 1000}\\n'\n",
    ")"
   ],
   "metadata": {
    "collapsed": false,
    "pycharm": {
     "name": "#%%\n"
    }
   }
  },
  {
   "cell_type": "markdown",
   "source": [
    ".\n",
    "## b) The need for compression:\n",
    "There has been recent discussion in the audio market about the need to move to higher sample representation precision\n",
    " and greater sample rates. In particular, a format using 24 bits per sample and a sample rate of 96 kHz has been discussed.\n",
    "  Let's look at some implications for using such a format for passing 5-channel audio.\n",
    "1. How much storage is needed for 2 hours of this type of audio signal?\n",
    "2. If the CD format throughput for audio is equal to 1.411 Mb/s (Mega or Millions bits per second), what compression\n",
    "3. ratio is needed to pass\n",
    "this type of signal through a CD system?\n",
    "4. If the DVD Video format throughput for audio is equal to 6.144 Mb/s,\n",
    "what compression ratio is needed to pass this type of signal through a DVD Video system?\n",
    "___\n",
    "Solution:"
   ],
   "metadata": {
    "collapsed": false,
    "pycharm": {
     "name": "#%% md\n"
    }
   }
  },
  {
   "cell_type": "code",
   "execution_count": 28,
   "outputs": [
    {
     "name": "stdout",
     "output_type": "stream",
     "text": [
      "1: storage in hours = 82944.0 Mb\n",
      "2: cd compression rate = bit_rate/1.411 = 8.164422395464209\n",
      "3: dvd compression rate = bit_rate/6.144 = 1.875\n"
     ]
    }
   ],
   "source": [
    "bit_rate = compute_bitrate(5, 96000, 24)\n",
    "storage_in_minutes = bit_rate * 60\n",
    "storage_in_hours = storage_in_minutes * 60\n",
    "print(f'1: storage in hours = {storage_in_hours * 2 * 1e-6} Mb')\n",
    "print(f'2: cd compression rate = bit_rate/1.411 = {bit_rate * 1e-6 / 1.411}')\n",
    "print(f'3: dvd compression rate = bit_rate/6.144 = {bit_rate * 1e-6 / 6.144}')"
   ],
   "metadata": {
    "collapsed": false,
    "pycharm": {
     "name": "#%%\n"
    }
   }
  },
  {
   "cell_type": "markdown",
   "source": [
    ".\n",
    "\n",
    "\n"
   ],
   "metadata": {
    "collapsed": false
   }
  }
 ],
 "metadata": {
  "kernelspec": {
   "display_name": "Python 3",
   "language": "python",
   "name": "python3"
  },
  "language_info": {
   "codemirror_mode": {
    "name": "ipython",
    "version": 2
   },
   "file_extension": ".py",
   "mimetype": "text/x-python",
   "name": "python",
   "nbconvert_exporter": "python",
   "pygments_lexer": "ipython2",
   "version": "2.7.6"
  }
 },
 "nbformat": 4,
 "nbformat_minor": 0
}