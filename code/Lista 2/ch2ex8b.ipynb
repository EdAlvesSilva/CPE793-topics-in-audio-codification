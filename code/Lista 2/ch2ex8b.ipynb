{
 "cells": [
  {
   "cell_type": "code",
   "execution_count": 12,
   "metadata": {},
   "outputs": [],
   "source": [
    "import numpy as np\n",
    "import matplotlib.pyplot as plt"
   ]
  },
  {
   "cell_type": "markdown",
   "metadata": {},
   "source": [
    "### b) Quantization and quantization noise\n",
    "In this exercise you will develop quantization routines that you will use\n",
    "when developing audio coders in later exercises."
   ]
  },
  {
   "cell_type": "markdown",
   "metadata": {},
   "source": [
    "<b> 1. Write functions that quantize floating point numbers from -1.0 up to\n",
    "1.0 using R-bit midtread uniform quantization; R-bit midrise uniform\n",
    "quantization; and Rs scale factor bits, Rm mantissa bits midtread\n",
    "floating point quantization. </b>"
   ]
  },
  {
   "cell_type": "code",
   "execution_count": 24,
   "metadata": {},
   "outputs": [],
   "source": [
    "def midrise_uniform_quantization(number, R):\n",
    "    if number >= 0:\n",
    "        s = 0\n",
    "    else:\n",
    "        s = 1\n",
    "    if np.abs(number) >= 1:\n",
    "        code = 2 ** (R-1) - 1\n",
    "    else:\n",
    "        code = int(2 ** (R-1) * np.abs(number))\n",
    "    coded = bin(code).split('b')[1]\n",
    "    n_zeros = R - 1 - len(coded)\n",
    "    return str(s) + '0' * n_zeros + coded\n",
    "\n",
    "def midrise_uniform_dequantization(code, R):\n",
    "    if code[0] == '0':\n",
    "        sign = 1\n",
    "    else:\n",
    "        sign = -1\n",
    "    return sign * (int(code[1:], 2) + 0.5) / 2 ** (R-1)\n",
    "\n",
    "def midtread_uniform_quantization(number, R):\n",
    "    if number >= 0:\n",
    "        s = 0\n",
    "    else:\n",
    "        s = 1\n",
    "    if np.abs(number) >= 1:\n",
    "        code = 2 ** (R-1) - 1\n",
    "    else:\n",
    "        code = int(((2 ** R - 1) * np.abs(number) + 1) / 2)\n",
    "    coded = bin(code).split('b')[1]\n",
    "    n_zeros = R - 1 - len(coded)\n",
    "    return str(s) + '0' * n_zeros + coded \n",
    "\n",
    "\n",
    "def midtread_uniform_dequantization(code, R):\n",
    "    if code[0] == '0':\n",
    "        sign = 1\n",
    "    else:\n",
    "        sign = -1\n",
    "    return sign * 2 * int(code[1:], 2) / (2 ** R -1)\n",
    "\n",
    "def floating_point_quantization_old(number, Rm, Rs, method='midtread'):\n",
    "    if method == 'midtread':\n",
    "        code = midtread_uniform_quantization(number, 2 ** Rs - 1 + Rm)\n",
    "    else:\n",
    "        code = midrise_uniform_quantization(number, 2 ** Rs - 1 + Rm)\n",
    "    lz = len(code[1:].split('1')[0])\n",
    "    if (2 ** Rs - 1) > lz:\n",
    "        scale = bin((2 ** Rs - 1 - lz)).split('b')[1]\n",
    "    else:\n",
    "        scale = bin(0).split('b')[1]\n",
    "        \n",
    "    if scale == '0':\n",
    "        mantissa = BitArray(bin=code[0] + '0' * (Rm - 1 - (lz + 1)) + code[lz + 1 : (lz + 1) + Rm - 1])\n",
    "    else:\n",
    "        mantissa = BitArray(bin=code[0] + '0' * (Rm - 1 - (lz + 2)) + code[lz + 2 : (lz + 2) + Rm - 1])\n",
    "    scale_lz = Rs - len(scale)\n",
    "    return '0' * scale_lz + scale, mantissa.bin\n",
    "\n",
    "def floating_point_quantization(number, Rs, Rm, method='midtread'):\n",
    "    if method == 'midtread':\n",
    "        code = midtread_uniform_quantization(number, 2 ** Rs - 1 + Rm)\n",
    "    else:\n",
    "        code = midrise_uniform_quantization(number, 2 ** Rs - 1 + Rm)\n",
    "        print('code: ', code)\n",
    "    lz = len(code[1:].split('1')[0])\n",
    "    if (2 ** Rs - 1) > lz:\n",
    "        scale_hat = bin((2 ** Rs - 1 - lz)).split('b')[1]\n",
    "        scale = '0' * (Rs - len(scale_hat)) + scale_hat\n",
    "    else:\n",
    "        scale = '0' * Rs\n",
    "    #print('scale: ', scale)\n",
    "    if int(code, 2) == 0:\n",
    "        mantissa = '0' * Rm\n",
    "    elif int(scale, 2) == 0:\n",
    "        mantissa = code[0]\n",
    "        mantissa += code[2 ** Rs: 2 ** Rs + (Rm -1)]\n",
    "    else:\n",
    "        mantissa = code[0]\n",
    "        mantissa += code[lz + 2: (lz + 2) + (Rm -1)]\n",
    "    return scale, mantissa\n",
    "\n",
    "def floating_point_dequantization(scale, mantissa, Rs, Rm, method='midtread'):\n",
    "    R = 2 ** Rs - 1 + Rm\n",
    "    code = mantissa[0]\n",
    "    code += '0' * (2 ** Rs - 1 - int(scale, 2))\n",
    "    if int(scale, 2) == 0:\n",
    "        code += mantissa[1:] \n",
    "    elif int(scale, 2) == 1:\n",
    "        code += '1' + mantissa[1:] \n",
    "    else:\n",
    "        code += '1' + mantissa[1:] + '1'\n",
    "        code += '0' * max(R - len(code), 0)\n",
    "    if method == 'midtread':\n",
    "        return midtread_uniform_dequantization(code, R)\n",
    "    else: \n",
    "        return midrise_uniform_dequantization(code, R)"
   ]
  },
  {
   "cell_type": "markdown",
   "metadata": {},
   "source": [
    "<b> 2. Create a version of Figure 10 using 1.1 kHz sine waves sampled at 8\n",
    "kHz as input. </b>"
   ]
  },
  {
   "cell_type": "code",
   "execution_count": 78,
   "metadata": {},
   "outputs": [],
   "source": [
    "def SNR(x_in, q):\n",
    "    return 10 * np.log10(np.mean(x_in ** 2)/(np.mean(q ** 2) + np.finfo(float).eps))"
   ]
  },
  {
   "cell_type": "code",
   "execution_count": 79,
   "metadata": {},
   "outputs": [],
   "source": [
    "Fs = 8000\n",
    "n = np.linspace(-1, 1, 8000)"
   ]
  },
  {
   "cell_type": "code",
   "execution_count": 80,
   "metadata": {},
   "outputs": [],
   "source": [
    "step = 0.01\n",
    "amplitudes = np.logspace(-5, 0.2, (1 / step))"
   ]
  },
  {
   "cell_type": "code",
   "execution_count": 81,
   "metadata": {},
   "outputs": [],
   "source": [
    "X_in = np.zeros((len(amplitudes), len(n)))"
   ]
  },
  {
   "cell_type": "code",
   "execution_count": 82,
   "metadata": {},
   "outputs": [],
   "source": [
    "for i in range(len(amplitudes)):\n",
    "    x = amplitudes[i] * np.sin(2 * np.pi * 1100 * n)\n",
    "    X_in[i, :] = x"
   ]
  },
  {
   "cell_type": "code",
   "execution_count": 83,
   "metadata": {},
   "outputs": [],
   "source": [
    "SNR_MT6 = []\n",
    "for i in range(len(amplitudes)):\n",
    "    x_mt6 = np.array([midtread_uniform_quantization(X_in[i,j], 6) for j in range(len(n))])\n",
    "    x_out_mt6 = np.array([midtread_uniform_dequantization(x, 6) for x in x_mt6])\n",
    "    q = X_in[i, :] - x_out_mt6\n",
    "    SNR_MT6.append(SNR(X_in[i, :], q))"
   ]
  },
  {
   "cell_type": "code",
   "execution_count": 84,
   "metadata": {},
   "outputs": [],
   "source": [
    "SNR_MT8 = []\n",
    "for i in range(len(amplitudes)):\n",
    "    x_mt8 = np.array([midtread_uniform_quantization(X_in[i,j], 8) for j in range(len(n))])\n",
    "    x_out_mt8 = np.array([midtread_uniform_dequantization(x, 8) for x in x_mt8])\n",
    "    q = X_in[i, :] - x_out_mt8\n",
    "    SNR_MT8.append(SNR(X_in[i, :], q))"
   ]
  },
  {
   "cell_type": "code",
   "execution_count": 85,
   "metadata": {},
   "outputs": [],
   "source": [
    "SNR_MT12 = []\n",
    "for i in range(len(amplitudes)):\n",
    "    x_mt12 = np.array([midtread_uniform_quantization(X_in[i,j], 12) for j in range(len(n))])\n",
    "    x_out_mt12 = np.array([midtread_uniform_dequantization(x, 12) for x in x_mt12])\n",
    "    q = X_in[i, :] - x_out_mt12\n",
    "    SNR_MT12.append(SNR(X_in[i, :], q))"
   ]
  },
  {
   "cell_type": "code",
   "execution_count": 86,
   "metadata": {},
   "outputs": [],
   "source": [
    "SNR_FP = []\n",
    "for i in range(len(amplitudes)):\n",
    "    x_fp = np.array([floating_point_quantization(X_in[i,j], 3, 5) for j in range(len(n))])\n",
    "    x_out_fp = np.array([floating_point_dequantization(s, m, 3, 5) for s, m in x_fp])\n",
    "    q = X_in[i, :] - x_out_fp\n",
    "    SNR_FP.append(SNR(X_in[i, :], q))"
   ]
  },
  {
   "cell_type": "code",
   "execution_count": 87,
   "metadata": {},
   "outputs": [
    {
     "data": {
      "text/plain": [
       "<matplotlib.legend.Legend at 0x2182e0a99e8>"
      ]
     },
     "execution_count": 87,
     "metadata": {},
     "output_type": "execute_result"
    },
    {
     "data": {
      "image/png": "[encoded data removed]",
      "text/plain": [
       "<Figure size 432x288 with 1 Axes>"
      ]
     },
     "metadata": {
      "needs_background": "light"
     },
     "output_type": "display_data"
    }
   ],
   "source": [
    "plt.plot(amplitudes, SNR_MT6, label='MT6')\n",
    "plt.plot(amplitudes, SNR_MT8, label='MT8')\n",
    "plt.plot(amplitudes, SNR_MT12, label='MT12')\n",
    "plt.plot(amplitudes, SNR_FP, label='FP35')\n",
    "plt.xscale('log')\n",
    "plt.axis([0.001, 1.5, -10, 80])\n",
    "plt.xlabel(\"Input sine wave amplitude\")\n",
    "plt.ylabel(\"SNR\")\n",
    "plt.grid(True)\n",
    "plt.legend()"
   ]
  },
  {
   "cell_type": "code",
   "execution_count": null,
   "metadata": {},
   "outputs": [],
   "source": []
  }
 ],
 "metadata": {
  "kernelspec": {
   "display_name": "Python 3",
   "language": "python",
   "name": "python3"
  },
  "language_info": {
   "codemirror_mode": {
    "name": "ipython",
    "version": 3
   },
   "file_extension": ".py",
   "mimetype": "text/x-python",
   "name": "python",
   "nbconvert_exporter": "python",
   "pygments_lexer": "ipython3",
   "version": "3.7.2"
  }
 },
 "nbformat": 4,
 "nbformat_minor": 2
}
